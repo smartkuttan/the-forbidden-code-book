{
  "cells": [
    {
      "cell_type": "markdown",
      "metadata": {},
      "source": [
        "# Chapter 2 Exercise: Risk Map (Template)\n",
        "\n",
        "Plot a likelihood vs impact risk map using matplotlib. Use a few example points.\n"
      ]
    }
  ],
  "metadata": {
    "language_info": {
      "name": "python"
    }
  },
  "nbformat": 4,
  "nbformat_minor": 2
}
