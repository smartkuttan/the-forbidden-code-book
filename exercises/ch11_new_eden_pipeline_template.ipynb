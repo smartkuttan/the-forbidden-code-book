{
  "cells": [
    {
      "cell_type": "markdown",
      "metadata": {},
      "source": [
        "# Chapter 11 Exercise: The New Eden Pipeline (Template)\n",
        "\n",
        "- Build a simple pipeline (train/test split, model).\n",
        "- Report overall accuracy and per‑group accuracy.\n",
        "\n"
      ]
    }
  ],
  "metadata": {
    "language_info": {
      "name": "python"
    }
  },
  "nbformat": 4,
  "nbformat_minor": 2
}
