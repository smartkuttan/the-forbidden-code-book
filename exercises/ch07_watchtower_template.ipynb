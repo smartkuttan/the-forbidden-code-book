{
  "cells": [
    {
      "cell_type": "markdown",
      "metadata": {},
      "source": [
        "# Chapter 7 Exercise: Build the Watchtower (Template)\n",
        "\n",
        "- Create arrays for y_true, y_pred, and sensitive group labels.\n",
        "- Compute demographic parity (positive rate by group) and log a simple audit dict.\n",
        "\n"
      ]
    }
  ],
  "metadata": {
    "language_info": {
      "name": "python"
    }
  },
  "nbformat": 4,
  "nbformat_minor": 2
}
