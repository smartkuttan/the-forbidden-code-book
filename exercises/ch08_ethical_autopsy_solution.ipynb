{
  "cells": [
    {
      "cell_type": "code",
      "execution_count": 1,
      "metadata": {},
      "outputs": [
        {
          "name": "stdout",
          "output_type": "stream",
          "text": [
            "['Ensure transparency and interpretability.', 'Do not prioritize speed/profit over safety.']\n"
          ]
        }
      ],
      "source": [
        "from dataclasses import dataclass, field\n",
        "from typing import List\n",
        "\n",
        "@dataclass\n",
        "class EthicalAutopsy:\n",
        "    event: str\n",
        "    stakeholders: List[str]\n",
        "    technical_cause: str\n",
        "    ethical_lapse: str\n",
        "    lessons: List[str] = field(default_factory=list)\n",
        "\n",
        "    def derive_lessons(self) -> List[str]:\n",
        "        text = (self.technical_cause + \" \" + self.ethical_lapse).lower()\n",
        "        if \"opacity\" in text or \"black box\" in text:\n",
        "            self.lessons.append(\"Ensure transparency and interpretability.\")\n",
        "        if \"profit\" in text or \"speed\" in text:\n",
        "            self.lessons.append(\"Do not prioritize speed/profit over safety.\")\n",
        "        if \"data\" in text and \"consent\" in text:\n",
        "            self.lessons.append(\"Collect/process data with informed consent.\")\n",
        "        if not self.lessons:\n",
        "            self.lessons.append(\"Add ethics review and postmortem.\")\n",
        "        return self.lessons\n",
        "\n",
        "case = EthicalAutopsy(\n",
        "    event=\"Model drift caused harm\",\n",
        "    stakeholders=[\"Users\", \"Company\", \"Regulator\"],\n",
        "    technical_cause=\"Black box with drift; weak monitoring\",\n",
        "    ethical_lapse=\"Prioritized speed over safety\",\n",
        ")\n",
        "print(case.derive_lessons())\n"
      ]
    }
  ],
  "metadata": {
    "kernelspec": {
      "display_name": "Python 3",
      "language": "python",
      "name": "python3"
    },
    "language_info": {
      "codemirror_mode": {
        "name": "ipython",
        "version": 3
      },
      "file_extension": ".py",
      "mimetype": "text/x-python",
      "name": "python",
      "nbconvert_exporter": "python",
      "pygments_lexer": "ipython3",
      "version": "3.11.9"
    }
  },
  "nbformat": 4,
  "nbformat_minor": 2
}
