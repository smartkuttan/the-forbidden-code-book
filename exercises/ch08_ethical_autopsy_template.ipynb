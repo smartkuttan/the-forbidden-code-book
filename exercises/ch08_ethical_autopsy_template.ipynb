{
  "cells": [
    {
      "cell_type": "markdown",
      "metadata": {},
      "source": [
        "# Chapter 8 Exercise: Ethical Autopsy (Template)\n",
        "\n",
        "- Define event, stakeholders, technical cause, and ethical lapse.\n",
        "- Produce a lessons list.\n",
        "\n"
      ]
    }
  ],
  "metadata": {
    "language_info": {
      "name": "python"
    }
  },
  "nbformat": 4,
  "nbformat_minor": 2
}
