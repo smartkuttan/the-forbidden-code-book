{
  "cells": [
    {
      "cell_type": "code",
      "execution_count": 1,
      "metadata": {},
      "outputs": [
        {
          "name": "stdout",
          "output_type": "stream",
          "text": [
            "{'rates': {'female': 0.6666666666666666, 'male': 0.3333333333333333}, 'gap': 0.3333333333333333}\n"
          ]
        }
      ],
      "source": [
        "import numpy as np\n",
        "\n",
        "y_pred = np.array([0,1,0,0,1,1])\n",
        "group = np.array([\"male\",\"female\",\"male\",\"female\",\"female\",\"male\"])\n",
        "\n",
        "rates = {}\n",
        "for g in np.unique(group):\n",
        "    mask = group==g\n",
        "    rates[g] = float(np.mean(y_pred[mask]))\n",
        "\n",
        "gap = abs(rates[\"male\"] - rates[\"female\"])\n",
        "print({\"rates\": rates, \"gap\": gap})\n"
      ]
    }
  ],
  "metadata": {
    "kernelspec": {
      "display_name": "Python 3",
      "language": "python",
      "name": "python3"
    },
    "language_info": {
      "codemirror_mode": {
        "name": "ipython",
        "version": 3
      },
      "file_extension": ".py",
      "mimetype": "text/x-python",
      "name": "python",
      "nbconvert_exporter": "python",
      "pygments_lexer": "ipython3",
      "version": "3.11.9"
    }
  },
  "nbformat": 4,
  "nbformat_minor": 2
}
