{
  "cells": [
    {
      "cell_type": "code",
      "execution_count": 1,
      "metadata": {},
      "outputs": [
        {
          "name": "stdout",
          "output_type": "stream",
          "text": [
            "Overall accuracy: 0.8166666666666667\n",
            "Group A accuracy: 0.8580645161290322\n",
            "Group B accuracy: 0.7724137931034483\n"
          ]
        }
      ],
      "source": [
        "import numpy as np\n",
        "import pandas as pd\n",
        "from sklearn.linear_model import LogisticRegression\n",
        "from sklearn.model_selection import train_test_split\n",
        "from sklearn.metrics import accuracy_score\n",
        "\n",
        "rng = np.random.default_rng(42)\n",
        "n = 1000\n",
        "X = pd.DataFrame({\n",
        "    \"feature1\": rng.normal(0,1,n),\n",
        "    \"feature2\": rng.normal(0,1,n),\n",
        "    \"group\": rng.choice([\"A\",\"B\"], size=n)\n",
        "})\n",
        "y = ((X[\"feature1\"] + 0.5 * (X[\"group\"] == \"A\").astype(int) + rng.normal(0,0.5,n)) > 0).astype(int)\n",
        "\n",
        "X_tr, X_te, y_tr, y_te = train_test_split(X[[\"feature1\",\"feature2\"]], y, test_size=0.3, random_state=0)\n",
        "G_te = X.loc[X_te.index, \"group\"].values\n",
        "\n",
        "model = LogisticRegression(max_iter=1000)\n",
        "model.fit(X_tr, y_tr)\n",
        "y_pred = model.predict(X_te)\n",
        "\n",
        "print(\"Overall accuracy:\", accuracy_score(y_te, y_pred))\n",
        "for g in np.unique(G_te):\n",
        "    mask = (G_te==g)\n",
        "    print(f\"Group {g} accuracy:\", accuracy_score(y_te[mask], y_pred[mask]))\n"
      ]
    }
  ],
  "metadata": {
    "kernelspec": {
      "display_name": "Python 3",
      "language": "python",
      "name": "python3"
    },
    "language_info": {
      "codemirror_mode": {
        "name": "ipython",
        "version": 3
      },
      "file_extension": ".py",
      "mimetype": "text/x-python",
      "name": "python",
      "nbconvert_exporter": "python",
      "pygments_lexer": "ipython3",
      "version": "3.11.9"
    }
  },
  "nbformat": 4,
  "nbformat_minor": 2
}
