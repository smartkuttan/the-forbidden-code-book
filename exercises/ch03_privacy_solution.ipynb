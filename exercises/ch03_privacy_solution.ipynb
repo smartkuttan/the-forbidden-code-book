{
  "cells": [
    {
      "cell_type": "code",
      "execution_count": 1,
      "metadata": {},
      "outputs": [
        {
          "name": "stdout",
          "output_type": "stream",
          "text": [
            "Consent required.\n",
            "Data collected (tokenized).\n",
            "Stored tokens: ['VXNlciBMb2NhdGlvbjogUm9tZQ==']\n"
          ]
        }
      ],
      "source": [
        "from __future__ import annotations\n",
        "import base64\n",
        "from typing import List\n",
        "\n",
        "class DataCollector:\n",
        "    def __init__(self) -> None:\n",
        "        self._tokens: List[str] = []\n",
        "    def collect(self, user_input: str, consent: bool) -> str:\n",
        "        if not consent:\n",
        "            return \"Consent required.\"\n",
        "        token = base64.b64encode(user_input.encode(\"utf-8\")).decode(\"ascii\")\n",
        "        self._tokens.append(token)\n",
        "        return \"Data collected (tokenized).\"\n",
        "    def list_tokens(self) -> List[str]:\n",
        "        return list(self._tokens)\n",
        "\n",
        "dc = DataCollector()\n",
        "print(dc.collect(\"User Location: Rome\", consent=False))\n",
        "print(dc.collect(\"User Location: Rome\", consent=True))\n",
        "print(\"Stored tokens:\", dc.list_tokens())\n"
      ]
    },
    {
      "cell_type": "code",
      "execution_count": null,
      "metadata": {},
      "outputs": [],
      "source": []
    }
  ],
  "metadata": {
    "kernelspec": {
      "display_name": "Python 3",
      "language": "python",
      "name": "python3"
    },
    "language_info": {
      "codemirror_mode": {
        "name": "ipython",
        "version": 3
      },
      "file_extension": ".py",
      "mimetype": "text/x-python",
      "name": "python",
      "nbconvert_exporter": "python",
      "pygments_lexer": "ipython3",
      "version": "3.11.9"
    }
  },
  "nbformat": 4,
  "nbformat_minor": 2
}
