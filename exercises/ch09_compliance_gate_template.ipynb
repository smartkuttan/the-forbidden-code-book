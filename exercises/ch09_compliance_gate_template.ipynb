{
  "cells": [
    {
      "cell_type": "markdown",
      "metadata": {},
      "source": [
        "# Chapter 9 Exercise: Insert the Ethical Gate (Template)\n",
        "\n",
        "- Write checks that fail on disallowed dependencies and PII patterns.\n",
        "- Demonstrate passing and failing examples.\n",
        "\n"
      ]
    }
  ],
  "metadata": {
    "language_info": {
      "name": "python"
    }
  },
  "nbformat": 4,
  "nbformat_minor": 2
}
