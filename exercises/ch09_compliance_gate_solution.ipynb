{
  "cells": [
    {
      "cell_type": "code",
      "execution_count": 1,
      "metadata": {},
      "outputs": [
        {
          "name": "stdout",
          "output_type": "stream",
          "text": [
            "Compliance OK\n"
          ]
        }
      ],
      "source": [
        "import re\n",
        "from pathlib import Path\n",
        "\n",
        "DISALLOWED_LIBS = {\"apache_struts\", \"insecure_lib\"}\n",
        "PII_PATTERNS = [\n",
        "    re.compile(r\"\\b\\d{3}-\\d{2}-\\d{4}\\b\"),\n",
        "    re.compile(r\"[A-Za-z0-9._%+-]+@[A-Za-z0-9.-]+\\.[A-Za-z]{2,}\"),\n",
        "]\n",
        "\n",
        "def check_requirements(path: Path):\n",
        "    if not path.exists():\n",
        "        return True\n",
        "    for line in path.read_text().splitlines():\n",
        "        low = line.lower()\n",
        "        for lib in DISALLOWED_LIBS:\n",
        "            if lib in low:\n",
        "                return False\n",
        "    return True\n",
        "\n",
        "assert check_requirements(Path(\"../requirements.txt\")) is True\n",
        "print(\"Compliance OK\")\n"
      ]
    }
  ],
  "metadata": {
    "kernelspec": {
      "display_name": "Python 3",
      "language": "python",
      "name": "python3"
    },
    "language_info": {
      "codemirror_mode": {
        "name": "ipython",
        "version": 3
      },
      "file_extension": ".py",
      "mimetype": "text/x-python",
      "name": "python",
      "nbconvert_exporter": "python",
      "pygments_lexer": "ipython3",
      "version": "3.11.9"
    }
  },
  "nbformat": 4,
  "nbformat_minor": 2
}
