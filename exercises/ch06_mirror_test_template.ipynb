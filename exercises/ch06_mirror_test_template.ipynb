{
  "cells": [
    {
      "cell_type": "markdown",
      "metadata": {},
      "source": [
        "# Chapter 6 Exercise: Code the Mirror Test (Template)\n",
        "\n",
        "- Build a small DataFrame with `gender`, `approved`, `prediction`.\n",
        "- Write a function to compute accuracy by group.\n",
        "- Report and discuss disparities.\n",
        "\n"
      ]
    }
  ],
  "metadata": {
    "language_info": {
      "name": "python"
    }
  },
  "nbformat": 4,
  "nbformat_minor": 2
}
