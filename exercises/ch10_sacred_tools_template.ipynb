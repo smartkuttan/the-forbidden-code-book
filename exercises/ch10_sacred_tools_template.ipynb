{
  "cells": [
    {
      "cell_type": "markdown",
      "metadata": {},
      "source": [
        "# Chapter 10 Exercise: Sacred Tools (Template)\n",
        "\n",
        "- Compute overall accuracy and group selection rate.\n",
        "- If Fairlearn is available, compute demographic parity difference.\n",
        "\n"
      ]
    }
  ],
  "metadata": {
    "language_info": {
      "name": "python"
    }
  },
  "nbformat": 4,
  "nbformat_minor": 2
}
