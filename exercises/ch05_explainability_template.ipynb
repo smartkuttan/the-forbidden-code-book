{
  "cells": [
    {
      "cell_type": "markdown",
      "metadata": {},
      "source": [
        "# Chapter 5 Exercise: Make the Black Box Speak (Template)\n",
        "\n",
        "- Train a tree-based model (e.g., RandomForest) on a tabular dataset.\n",
        "- Use SHAP to compute a summary of feature contributions.\n",
        "- Save or display a summary plot.\n",
        "\n"
      ]
    }
  ],
  "metadata": {
    "language_info": {
      "name": "python"
    }
  },
  "nbformat": 4,
  "nbformat_minor": 2
}
