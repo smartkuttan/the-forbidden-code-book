{
  "cells": [
    {
      "cell_type": "code",
      "execution_count": 3,
      "metadata": {},
      "outputs": [],
      "source": [
        "import warnings\n",
        "warnings.filterwarnings(\"ignore\", category=FutureWarning, module=\"fairlearn\")\n"
      ]
    },
    {
      "cell_type": "code",
      "execution_count": 4,
      "metadata": {},
      "outputs": [
        {
          "name": "stdout",
          "output_type": "stream",
          "text": [
            "Overall accuracy: 0.75\n",
            "                     accuracy  selection_rate\n",
            "sensitive_feature_0                          \n",
            "A                        0.75             0.5\n",
            "B                        0.75             0.5\n",
            "DP diff: 0.0\n"
          ]
        }
      ],
      "source": [
        "import numpy as np\n",
        "from sklearn.metrics import accuracy_score\n",
        "try:\n",
        "    from fairlearn.metrics import MetricFrame, selection_rate, demographic_parity_difference\n",
        "    FAIR = True\n",
        "except Exception:\n",
        "    FAIR = False\n",
        "\n",
        "y_true = np.array([1,0,1,1,0,0,1,0])\n",
        "y_pred = np.array([1,0,1,0,0,1,1,0])\n",
        "groups = np.array([\"A\",\"A\",\"B\",\"B\",\"A\",\"A\",\"B\",\"B\"])\n",
        "\n",
        "print(\"Overall accuracy:\", accuracy_score(y_true, y_pred))\n",
        "if FAIR:\n",
        "    frame = MetricFrame(metrics={\"accuracy\": accuracy_score, \"selection_rate\": selection_rate},\n",
        "                        y_true=y_true, y_pred=y_pred, sensitive_features=groups)\n",
        "    print(frame.by_group)\n",
        "    print(\"DP diff:\", demographic_parity_difference(y_true, y_pred, sensitive_features=groups))\n",
        "else:\n",
        "    a = np.mean(y_pred[groups==\"A\"]) ; b = np.mean(y_pred[groups==\"B\"]) ; print({\"A\": a, \"B\": b, \"diff\": a-b})\n"
      ]
    }
  ],
  "metadata": {
    "kernelspec": {
      "display_name": "Python 3",
      "language": "python",
      "name": "python3"
    },
    "language_info": {
      "codemirror_mode": {
        "name": "ipython",
        "version": 3
      },
      "file_extension": ".py",
      "mimetype": "text/x-python",
      "name": "python",
      "nbconvert_exporter": "python",
      "pygments_lexer": "ipython3",
      "version": "3.11.9"
    }
  },
  "nbformat": 4,
  "nbformat_minor": 2
}
