{
  "cells": [
    {
      "cell_type": "code",
      "execution_count": 3,
      "metadata": {},
      "outputs": [
        {
          "name": "stdout",
          "output_type": "stream",
          "text": [
            "By-group metrics: {0: {'FPR': 0.0, 'FNR': 0.0}, 1: {'FPR': 0.0, 'FNR': 0.0}}\n",
            "Proxy correlation (proxy~gender): -0.227\n"
          ]
        }
      ],
      "source": [
        "import numpy as np\n",
        "import pandas as pd\n",
        "from sklearn.linear_model import LogisticRegression\n",
        "from sklearn.model_selection import train_test_split\n",
        "from sklearn.metrics import confusion_matrix\n",
        "\n",
        "rng = np.random.default_rng(42)\n",
        "n = 500\n",
        "gender = rng.integers(0, 2, size=n)\n",
        "income = rng.normal(50_000 + 5_000 * (gender == 0), 8_000, size=n)\n",
        "proxy = (income > 52_000).astype(int)\n",
        "noise = rng.normal(0, 1, size=n)\n",
        "approved = (0.02 * (income - 50_000) + 0.5 * (gender == 0) + noise > 0.3).astype(int)\n",
        "df = pd.DataFrame({\"income\": income, \"proxy\": proxy, \"approved\": approved, \"gender\": gender})\n",
        "\n",
        "X = df[[\"income\", \"proxy\"]]\n",
        "y = df[\"approved\"]\n",
        "g = df[\"gender\"]\n",
        "# train_test_split returns train and test for each array → 6 outputs\n",
        "X_tr, X_te, y_tr, y_te, g_tr, g_te = train_test_split(X, y, g, test_size=0.3, random_state=0)\n",
        "model = LogisticRegression(max_iter=1000)\n",
        "model.fit(X_tr, y_tr)\n",
        "preds = model.predict(X_te)\n",
        "\n",
        "metrics = {}\n",
        "for gv in [0, 1]:\n",
        "    mask = (g_te == gv)\n",
        "    tn, fp, fn, tp = confusion_matrix(y_te[mask], preds[mask]).ravel()\n",
        "    metrics[gv] = {\n",
        "        \"FPR\": fp / (fp + tn),\n",
        "        \"FNR\": fn / (fn + tp),\n",
        "    }\n",
        "\n",
        "proxy_corr = np.corrcoef(df[\"proxy\"], df[\"gender\"])[0, 1]\n",
        "print(\"By-group metrics:\", metrics)\n",
        "print(\"Proxy correlation (proxy~gender):\", round(proxy_corr, 3))\n",
        "\n"
      ]
    }
  ],
  "metadata": {
    "kernelspec": {
      "display_name": "Python 3",
      "language": "python",
      "name": "python3"
    },
    "language_info": {
      "codemirror_mode": {
        "name": "ipython",
        "version": 3
      },
      "file_extension": ".py",
      "mimetype": "text/x-python",
      "name": "python",
      "nbconvert_exporter": "python",
      "pygments_lexer": "ipython3",
      "version": "3.11.9"
    }
  },
  "nbformat": 4,
  "nbformat_minor": 2
}
